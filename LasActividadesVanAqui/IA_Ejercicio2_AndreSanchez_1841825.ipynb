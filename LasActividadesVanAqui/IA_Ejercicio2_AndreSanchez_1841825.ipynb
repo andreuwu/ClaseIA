{
  "nbformat": 4,
  "nbformat_minor": 0,
  "metadata": {
    "colab": {
      "name": "IA_Ejercicio2_AndreSanchez_1841825",
      "provenance": [],
      "collapsed_sections": []
    },
    "kernelspec": {
      "name": "python3",
      "display_name": "Python 3"
    },
    "language_info": {
      "name": "python"
    }
  },
  "cells": [
    {
      "cell_type": "markdown",
      "metadata": {
        "id": "89NQGjbyTry-"
      },
      "source": [
        "Actividad 3.- Ejercicios Introducción Python, 2da parte\n",
        "\n",
        "André Haziel Sánchez González 1841825\n",
        "\n",
        "Inteligencia Artificial y Redes Neuronales Martes N4"
      ]
    },
    {
      "cell_type": "markdown",
      "metadata": {
        "id": "SARDYQfAUGd1"
      },
      "source": [
        "***Ejercicio 1***"
      ]
    },
    {
      "cell_type": "code",
      "metadata": {
        "colab": {
          "base_uri": "https://localhost:8080/"
        },
        "id": "jf-RqZbBfAs4",
        "outputId": "9bafe7a3-f83a-40d9-df8c-c85357bd1cf7"
      },
      "source": [
        "# Ejercicio 1.1\n",
        "lista=[] #Se crea una lista vacia\n",
        "lista.append(input(\"Menciona 7 de tus comidas favoritas. Comida 1: \")) #Se pregunta por la comida favorita del usuario y se agrega a la lista\n",
        "for i in range(6): #Se usa un loop para preguntarle por sus otras seis comidas favoritas\n",
        "  a=str(i+2)\n",
        "  lista.append(input(\"Comida \"+a+ \": \")) \n",
        "print()\n",
        "print(\"Tus comidas favoritas son: \")\n",
        "print(lista) #Se imprime la lista\n",
        "print()\n",
        "#Ejercicio 1.2\n",
        "for i in range(7): #Se usa un loop para imprimir los elementos de la lista en oraciones\n",
        "  if i==0 :\n",
        "    print(\"Mi comida favorita es: \", lista[i])\n",
        "  else:  \n",
        "    print(\"Otra de mis comidas favoritas es: \", lista[i])"
      ],
      "execution_count": null,
      "outputs": [
        {
          "output_type": "stream",
          "name": "stdout",
          "text": [
            "Menciona 7 de tus comidas favoritas. Comida 1: Pizza\n",
            "Comida 2: Camarones\n",
            "Comida 3: Enchiladas\n",
            "Comida 4: Sushi\n",
            "Comida 5: Pastel\n",
            "Comida 6: Pasta\n",
            "Comida 7: Empanadas\n",
            "\n",
            "Tus comidas favoritas son: \n",
            "['Pizza', 'Camarones', 'Enchiladas', 'Sushi', 'Pastel', 'Pasta', 'Empanadas']\n",
            "\n",
            "Mi comida favorita es:  Pizza\n",
            "Otra de mis comidas favoritas es:  Camarones\n",
            "Otra de mis comidas favoritas es:  Enchiladas\n",
            "Otra de mis comidas favoritas es:  Sushi\n",
            "Otra de mis comidas favoritas es:  Pastel\n",
            "Otra de mis comidas favoritas es:  Pasta\n",
            "Otra de mis comidas favoritas es:  Empanadas\n"
          ]
        }
      ]
    },
    {
      "cell_type": "markdown",
      "metadata": {
        "id": "vVuR4iwZfDIU"
      },
      "source": [
        "***Ejercicio 2***"
      ]
    },
    {
      "cell_type": "code",
      "metadata": {
        "colab": {
          "base_uri": "https://localhost:8080/"
        },
        "id": "hZaw7o_pfDzS",
        "outputId": "38789912-1566-4c02-ea5a-584ea71b0caf"
      },
      "source": [
        "def juego(): #Se crea una funcion que muestra las opciones posibles a elegir durante el juego\n",
        "  lista=[\"Piedra\", \"Papel\", \"Tijera\"]\n",
        "  a=1\n",
        "  for i in (lista):\n",
        "    b=str(a)\n",
        "    print(\"[\"+b+\"] \", end=\"\")\n",
        "    print(i)\n",
        "    a+=1\n",
        "def opt(): #Se crea un menu para saber si se desea seguir jugando o no\n",
        "  menu=[\"Seguir jugando\", \"Dejar de jugar\"]\n",
        "  a=1\n",
        "  for i in (menu):\n",
        "    b=str(a)\n",
        "    print(\"[\"+b+\"] \", end=\"\")\n",
        "    print(i)\n",
        "    a+=1\n",
        "\n",
        "while True: #Se pregunta si se quiere jugar o no\n",
        "  game=int(input(\"¿Quieren jugar Piedra, Papel o Tijera, Si= 1 o No= 2 :\"))\n",
        "  if game == 1 or game ==2:\n",
        "    break\n",
        "  else: \n",
        "    print(\"Opción no valida, intente de nuevo\")\n",
        "while game !=2: #Se usa un loop para que el juego continue hasta que ya no se desee\n",
        "  while True: #Se pregunta por la opción del jugador 1\n",
        "    juego()\n",
        "    j1= int(input(\"Opción del jugador 1: \"))\n",
        "    if j1 ==1 or j1==2 or j1==3:\n",
        "      print()\n",
        "      break\n",
        "    else: \n",
        "      print(\"Opción no valida, intente de nuevo\") \n",
        "  while True: #Se pregunta por la opción del jugador 2\n",
        "    juego()\n",
        "    j2= int(input(\"Opción del jugador 2: \"))\n",
        "    if j2 ==1 or j2==2 or j2==3:\n",
        "      print()\n",
        "      break\n",
        "    else: \n",
        "      print(\"Opción no valida, intente de nuevo\")\n",
        "  if j1==j2: #Se comparan las respuestas para saber si son iguales y declarar que es un empate\n",
        "    print(\"Es un empate\")\n",
        "    print()\n",
        "  elif j1==1: #Se hace una comparación de la opción del jugador 2 cuando el jugador 1 elige la opción 1\n",
        "    if j2==2: \n",
        "      print(\"Jugador 2 gana!!!!\")\n",
        "      print()\n",
        "    else: \n",
        "      print(\"Jugador 1 gana!!!!\")\n",
        "      print()\n",
        "  elif j1==2: #Se hace una comparación de la opción del jugador 2 cuando el jugador 1 elige la opción 2\n",
        "    if j2==1: \n",
        "      print(\"Jugador 1 gana!!!!\")\n",
        "      print()\n",
        "    else: \n",
        "      print(\"Jugador 2 gana!!!!\")\n",
        "      print()\n",
        "  elif j1==3: #Se hace una comparación de la opción del jugador 2 cuando el jugador 1 elige la opción 3\n",
        "    if j2==1: \n",
        "      print(\"Jugador 2 gana!!!!\")\n",
        "      print()\n",
        "    else: \n",
        "      print(\"Jugador 1 gana!!!!\")\n",
        "      print()\n",
        "  while True: #Se pregunta si se quiere seguir jugando o no\n",
        "    print(\"¿Quieren seguir jugando?\")\n",
        "    opt()\n",
        "    fin=int(input(\"\"))\n",
        "    if fin == 1:\n",
        "      print()\n",
        "      break\n",
        "    if fin==2:\n",
        "      game=fin\n",
        "      print()\n",
        "      break\n",
        "    else: \n",
        "      print(\"Opción no valida, intente de nuevo\")\n",
        "print(\"Gracias por probar\")"
      ],
      "execution_count": null,
      "outputs": [
        {
          "output_type": "stream",
          "name": "stdout",
          "text": [
            "¿Quieren jugar Piedra, Papel o Tijera, Si= 1 o No= 2 :1\n",
            "[1] Piedra\n",
            "[2] Papel\n",
            "[3] Tijera\n",
            "Opción del jugador 1: 2\n",
            "\n",
            "[1] Piedra\n",
            "[2] Papel\n",
            "[3] Tijera\n",
            "Opción del jugador 2: 3\n",
            "\n",
            "Jugador 2 gana!!!!\n",
            "\n",
            "¿Quieren seguir jugando?\n",
            "[1] Seguir jugando\n",
            "[2] Dejar de jugar\n",
            "2\n",
            "\n",
            "Gracias por probar\n"
          ]
        }
      ]
    },
    {
      "cell_type": "markdown",
      "metadata": {
        "id": "qrq2gkLQe9W4"
      },
      "source": [
        "***Ejercicio 3***"
      ]
    },
    {
      "cell_type": "code",
      "metadata": {
        "colab": {
          "base_uri": "https://localhost:8080/"
        },
        "id": "j2tCgVRITndu",
        "outputId": "707d2ebf-6a29-4cbb-f5ae-86c670dab039"
      },
      "source": [
        "for i in range(10): #Se usa un loop con 10 iteraciones, ya que la linea 5 y 6 se imprimen en la misma iteración\n",
        "  if i<=4: #Se imprimen las primeras 5 lineas de la secuencia \n",
        "    for j in range(6-i):\n",
        "      print(j+1,end=\"\")\n",
        "    print()\n",
        "  if i>=4:  #Se imprimen las siguientes 6 lineas del codigo\n",
        "    for j in range(i-3):\n",
        "        print(j+1,end=\"\")\n",
        "    print()"
      ],
      "execution_count": null,
      "outputs": [
        {
          "output_type": "stream",
          "name": "stdout",
          "text": [
            "123456\n",
            "12345\n",
            "1234\n",
            "123\n",
            "12\n",
            "1\n",
            "12\n",
            "123\n",
            "1234\n",
            "12345\n",
            "123456\n"
          ]
        }
      ]
    }
  ]
}