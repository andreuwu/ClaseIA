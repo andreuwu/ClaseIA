{
  "nbformat": 4,
  "nbformat_minor": 0,
  "metadata": {
    "colab": {
      "name": "IA_Ejercicio1_AndreSanchez_1841825",
      "provenance": [],
      "collapsed_sections": []
    },
    "kernelspec": {
      "name": "python3",
      "display_name": "Python 3"
    },
    "language_info": {
      "name": "python"
    }
  },
  "cells": [
    {
      "cell_type": "markdown",
      "metadata": {
        "id": "71PljABdGdzY"
      },
      "source": [
        "**Ejercicios de Introducción Python** \n",
        "\n",
        "André Haziel Sánchez González 1841825\n",
        "\n",
        "*Inteligencia Artificial y Redes Neuronales N4*"
      ]
    },
    {
      "cell_type": "markdown",
      "metadata": {
        "id": "67aPJzMoYsw5"
      },
      "source": [
        "En este codigo se le pide al usuario contestar unas preguntas, para despues concatenar las respuestas en un solo parrafo. Después de terminar el Ejercicio 2 me di cuenta que esto se puede hacer gracias a que los datos obtenidos con `input()` se considera como string y por eso lo puedes juntar con otras cadenas de caracteres."
      ]
    },
    {
      "cell_type": "code",
      "metadata": {
        "id": "SPj7REF708SP",
        "colab": {
          "base_uri": "https://localhost:8080/"
        },
        "outputId": "e1fbb14e-f8e2-4029-ea32-2426bd526e21"
      },
      "source": [
        "nombre= input(\"¿Cuál es tu nombre? \")\n",
        "edad= input(\"¿Cuántos años tienes? \")\n",
        "frase= input(\"Escribe una de tus frases favoritas: \")\n",
        "autor= input(\"Escribe quien dijo o escribió esa frase: \")\n",
        "a =\"Tu nombre es \" + nombre +\". \"\n",
        "b= \"Tienes \" + edad + \" años. \"\n",
        "c=\"Tu frase favorita es: \" + frase + \". \"\n",
        "d= \"Y la dijo/escribió: \" + autor + \". \"\n",
        "print(a+b+c+d)\n"
      ],
      "execution_count": null,
      "outputs": [
        {
          "output_type": "stream",
          "text": [
            "¿Cuál es tu nombre? André\n",
            "¿Cuántos años tienes? 20\n",
            "Escribe una de tus frases favoritas: Viaje antes que destino\n",
            "Escribe quien dijo o escribió esa frase: Brandon Sanderson\n",
            "Tu nombre es André. Tienes 20 años. Tu frase favorita es: Viaje antes que destino. Y la dijo/escribió: Brandon Sanderson. \n"
          ],
          "name": "stdout"
        }
      ]
    },
    {
      "cell_type": "markdown",
      "metadata": {
        "id": "fP0Hs0WmYuBv"
      },
      "source": [
        "En este siguiente ejercicio se le pide al usuario dar dos numeros enteros y dos con decimales, usando `input()`, pero como ya se mencionó anteriormente esto da un dato tipo string por lo que se uso `int()` y `float()` para cambiar el tipo de dato y que las operaciones den los resultados correctos y no solo junten los caracteres. Tambien se uso un loop `while` para impedir que el denominador en la división fuera 0 y que diera un error el codigo."
      ]
    },
    {
      "cell_type": "code",
      "metadata": {
        "colab": {
          "base_uri": "https://localhost:8080/"
        },
        "id": "33P2CbIbKtF8",
        "outputId": "381a47ec-f6ee-4177-8c61-f0634c56329c"
      },
      "source": [
        "n1= input(\"Escribe un número entero: \")\n",
        "n1= int(n1)\n",
        "n2= input(\"Escribe otro número entero diferente a 0: \")\n",
        "n2= int(n2)\n",
        "while n2==0:\n",
        "    print(\"Número no valido, ingrese otro.\")\n",
        "    n2= input(\"Escribe otro número entero diferente a 0: \")\n",
        "    n2= int(n2)\n",
        "n3= input(\"Escribe un número con decimales: \") \n",
        "n3 = float(n3)\n",
        "n4= input(\"Escribe otro número con decimales y que sea diferente a 0: \")\n",
        "n4= float(n4)\n",
        "while (n4==0 or n4==0.0 or n4==0.00):\n",
        "    print(\"Número no valido, ingrese otro.\")\n",
        "    n4= input(\"Escribe otro número entero diferente a 0: \")\n",
        "    n4=float(n4)\n",
        "\n",
        "sum1 = n1 + n2\n",
        "mult1= n1*n2\n",
        "res1= n1-n2\n",
        "div1= n1/n2\n",
        "sum2 = n3+n4\n",
        "mult2= n3*n4\n",
        "res2= n3-n4\n",
        "div2= n3/n4\n",
        "print(\"La suma entre los numeros enteros es: \", sum1)\n",
        "print(\"La resta entre los numeros enteros es: \", res1)\n",
        "print(\"La multiplicación entre los numeros enteros es: \", mult1)\n",
        "print(\"La divición entre los numeros enteros es: \", div1) \n",
        "print(\"La suma entre los numeros flotantes es: \", round(sum2,2))\n",
        "print(\"La resta entre los numeros flotantes es: \", round(res2,2))\n",
        "print(\"La multiplicación entre los numeros flotantes es: \", round(mult2,2))\n",
        "print(\"La divición entre los numeros flotantes es: \", round(div2,2)) "
      ],
      "execution_count": null,
      "outputs": [
        {
          "output_type": "stream",
          "text": [
            "Escribe un número entero: 5\n",
            "Escribe otro número entero diferente a 0: 5\n",
            "Escribe un número con decimales: 5.5\n",
            "Escribe otro número con decimales y que sea diferente a 0: 2.2\n",
            "La suma entre los numeros enteros es:  10\n",
            "La resta entre los numeros enteros es:  0\n",
            "La multiplicación entre los numeros enteros es:  25\n",
            "La divición entre los numeros enteros es:  1.0\n",
            "La suma entre los numeros flotantes es:  7.7\n",
            "La resta entre los numeros flotantes es:  3.3\n",
            "La multiplicación entre los numeros flotantes es:  12.1\n",
            "La divición entre los numeros flotantes es:  2.5\n"
          ],
          "name": "stdout"
        }
      ]
    },
    {
      "cell_type": "markdown",
      "metadata": {
        "id": "Jq4STE5CKrgh"
      },
      "source": [
        "Por ultimó, se pidieron 4 numeros que se usaron en unas cuantas operaciones lógicas con los operadores and, or y not y observar el valor que lanzaban."
      ]
    },
    {
      "cell_type": "code",
      "metadata": {
        "colab": {
          "base_uri": "https://localhost:8080/"
        },
        "id": "cxrNA4lqT2Ld",
        "outputId": "01cb62bd-8a0a-4153-a334-7b9f20431e5d"
      },
      "source": [
        "x= int(input(\"Escriba un número entero: \"))\n",
        "y= int(input(\"Escriba un segundo número entero: \"))\n",
        "z= int(input(\"Escriba un tercer número entero: \"))\n",
        "w= int(input(\"Escriba un cuarto número entero: \"))\n",
        "print( x<w and x==y)\n",
        "print( x>=z and z<=y)\n",
        "print( x<w or x==y)\n",
        "print( x>=z or z<=y)\n",
        "print( not (x<w and x==y))\n",
        "print( not (x<w or x==y))"
      ],
      "execution_count": null,
      "outputs": [
        {
          "output_type": "stream",
          "text": [
            "Escriba un número entero: 5\n",
            "Escriba un segundo número entero: 5\n",
            "Escriba un tercer número entero: 5\n",
            "Escriba un cuarto número entero: 3\n",
            "False\n",
            "True\n",
            "True\n",
            "True\n",
            "True\n",
            "False\n"
          ],
          "name": "stdout"
        }
      ]
    }
  ]
}