{
  "nbformat": 4,
  "nbformat_minor": 0,
  "metadata": {
    "colab": {
      "name": "Examen de medio curso",
      "provenance": []
    },
    "kernelspec": {
      "name": "python3",
      "display_name": "Python 3"
    },
    "language_info": {
      "name": "python"
    }
  },
  "cells": [
    {
      "cell_type": "code",
      "metadata": {
        "colab": {
          "base_uri": "https://localhost:8080/"
        },
        "id": "O-7aMpqU94l1",
        "outputId": "d7da149c-a04d-476b-d04b-51232744de24"
      },
      "source": [
        "#Ejercicio 1.1 \n",
        "num = int(input(\"Escriba un número\"))\n",
        "sum = 0\n",
        "for i in range (1,num+1): \n",
        "  sum = sum + i\n",
        "print (sum)"
      ],
      "execution_count": 3,
      "outputs": [
        {
          "output_type": "stream",
          "name": "stdout",
          "text": [
            "Escriba un número4\n",
            "10\n"
          ]
        }
      ]
    },
    {
      "cell_type": "code",
      "metadata": {
        "colab": {
          "base_uri": "https://localhost:8080/"
        },
        "id": "2qq1qHRM-srN",
        "outputId": "9a577ca3-296c-40af-e217-e1ac5126f41c"
      },
      "source": [
        "#Ejercicio 1.2\n",
        "a=list(range(6,32))\n",
        "for i in a:\n",
        "  if i%2== 0:\n",
        "    print(i)"
      ],
      "execution_count": 11,
      "outputs": [
        {
          "output_type": "stream",
          "name": "stdout",
          "text": [
            "6\n",
            "8\n",
            "10\n",
            "12\n",
            "14\n",
            "16\n",
            "18\n",
            "20\n",
            "22\n",
            "24\n",
            "26\n",
            "28\n",
            "30\n"
          ]
        }
      ]
    }
  ]
}